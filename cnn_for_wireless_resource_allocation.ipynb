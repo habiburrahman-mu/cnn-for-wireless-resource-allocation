{
  "nbformat": 4,
  "nbformat_minor": 0,
  "metadata": {
    "colab": {
      "name": "cnn-for-wireless-resource-allocation.ipynb",
      "provenance": [],
      "collapsed_sections": [],
      "toc_visible": true
    },
    "kernelspec": {
      "name": "python3",
      "display_name": "Python 3"
    },
    "language_info": {
      "name": "python"
    },
    "accelerator": "GPU"
  },
  "cells": [
    {
      "cell_type": "markdown",
      "metadata": {
        "id": "YRs-BxDAdlAX"
      },
      "source": [
        "# Convolutional Neural Network Based Optimization Approach for Wireless Resource Management \n",
        "\n",
        "This work is published a research article in IEEE Xplore: \n",
        "https://ieeexplore.ieee.org/document/9333532\n",
        "\n",
        "This notebook requires:\n",
        "\n",
        "\n",
        "---\n",
        "\n",
        "\n",
        "\n",
        "1. wget\n",
        "2. Tensorflow 1.x\n",
        "3. Numpy\n",
        "4. Scipy\n",
        "5. Pandas\n",
        "6. Matplotlib 3.2.2\n",
        "\n"
      ]
    },
    {
      "cell_type": "markdown",
      "metadata": {
        "id": "pUvQ_V58dUJm"
      },
      "source": [
        "Getting Training and Testing data from GitHub repository using **wget**"
      ]
    },
    {
      "cell_type": "code",
      "metadata": {
        "colab": {
          "base_uri": "https://localhost:8080/"
        },
        "id": "ARIN3aDaAW87",
        "outputId": "05d7446b-b2a8-42f6-9567-70dbe959a412"
      },
      "source": [
        "!wget -O \"Train_data_10_100000.mat\" \"https://github.com/habiburrahman-mu/cnn-for-wireless-resource-allocation/raw/main/data/Train_data_10_100000.mat\"\n",
        "!wget -O \"Test_data_10_10000.mat\" \"https://github.com/habiburrahman-mu/cnn-for-wireless-resource-allocation/raw/main/data/Test_data_10_10000.mat\""
      ],
      "execution_count": 1,
      "outputs": [
        {
          "output_type": "stream",
          "text": [
            "--2021-04-07 15:25:47--  https://github.com/habiburrahman-mu/cnn-for-wireless-resource-allocation/raw/main/data/Train_data_10_100000.mat\n",
            "Resolving github.com (github.com)... 52.192.72.89\n",
            "Connecting to github.com (github.com)|52.192.72.89|:443... connected.\n",
            "HTTP request sent, awaiting response... 302 Found\n",
            "Location: https://raw.githubusercontent.com/habiburrahman-mu/cnn-for-wireless-resource-allocation/main/data/Train_data_10_100000.mat [following]\n",
            "--2021-04-07 15:25:48--  https://raw.githubusercontent.com/habiburrahman-mu/cnn-for-wireless-resource-allocation/main/data/Train_data_10_100000.mat\n",
            "Resolving raw.githubusercontent.com (raw.githubusercontent.com)... 185.199.108.133, 185.199.109.133, 185.199.110.133, ...\n",
            "Connecting to raw.githubusercontent.com (raw.githubusercontent.com)|185.199.108.133|:443... connected.\n",
            "HTTP request sent, awaiting response... 200 OK\n",
            "Length: 88000264 (84M) [application/octet-stream]\n",
            "Saving to: ‘Train_data_10_100000.mat’\n",
            "\n",
            "Train_data_10_10000 100%[===================>]  83.92M   104MB/s    in 0.8s    \n",
            "\n",
            "2021-04-07 15:25:49 (104 MB/s) - ‘Train_data_10_100000.mat’ saved [88000264/88000264]\n",
            "\n",
            "--2021-04-07 15:25:49--  https://github.com/habiburrahman-mu/cnn-for-wireless-resource-allocation/raw/main/data/Test_data_10_10000.mat\n",
            "Resolving github.com (github.com)... 52.69.186.44\n",
            "Connecting to github.com (github.com)|52.69.186.44|:443... connected.\n",
            "HTTP request sent, awaiting response... 302 Found\n",
            "Location: https://raw.githubusercontent.com/habiburrahman-mu/cnn-for-wireless-resource-allocation/main/data/Test_data_10_10000.mat [following]\n",
            "--2021-04-07 15:25:50--  https://raw.githubusercontent.com/habiburrahman-mu/cnn-for-wireless-resource-allocation/main/data/Test_data_10_10000.mat\n",
            "Resolving raw.githubusercontent.com (raw.githubusercontent.com)... 185.199.108.133, 185.199.109.133, 185.199.110.133, ...\n",
            "Connecting to raw.githubusercontent.com (raw.githubusercontent.com)|185.199.108.133|:443... connected.\n",
            "HTTP request sent, awaiting response... 200 OK\n",
            "Length: 8800328 (8.4M) [application/octet-stream]\n",
            "Saving to: ‘Test_data_10_10000.mat’\n",
            "\n",
            "Test_data_10_10000. 100%[===================>]   8.39M  29.8MB/s    in 0.3s    \n",
            "\n",
            "2021-04-07 15:25:50 (29.8 MB/s) - ‘Test_data_10_10000.mat’ saved [8800328/8800328]\n",
            "\n"
          ],
          "name": "stdout"
        }
      ]
    },
    {
      "cell_type": "code",
      "metadata": {
        "colab": {
          "base_uri": "https://localhost:8080/"
        },
        "id": "TiItmaP9BJ0M",
        "outputId": "4004f8bf-f1f9-4498-f231-dd0b425a59d6"
      },
      "source": [
        "%tensorflow_version 1.x"
      ],
      "execution_count": 2,
      "outputs": [
        {
          "output_type": "stream",
          "text": [
            "TensorFlow 1.x selected.\n"
          ],
          "name": "stdout"
        }
      ]
    },
    {
      "cell_type": "code",
      "metadata": {
        "id": "VdvxNF5-AyW8"
      },
      "source": [
        "import scipy.io as sio\n",
        "import numpy as np\n",
        "\n",
        "import tensorflow as tf\n",
        "import time"
      ],
      "execution_count": 3,
      "outputs": []
    },
    {
      "cell_type": "code",
      "metadata": {
        "id": "nQwQt3J2Bv9p"
      },
      "source": [
        "N = 10\n",
        "num_train = 100000\n",
        "num_test = 10000\n",
        "epochs = 100\n",
        "batch_size = 256\n",
        "learning_rate = 0.0005"
      ],
      "execution_count": 4,
      "outputs": []
    },
    {
      "cell_type": "markdown",
      "metadata": {
        "id": "5WsMgP34esUM"
      },
      "source": [
        "Load Training and Testing Data"
      ]
    },
    {
      "cell_type": "code",
      "metadata": {
        "id": "GdAuz7pGBzLS"
      },
      "source": [
        "load = sio.loadmat('Train_data_%d_%d.mat' % (N, num_train))\n",
        "loadTest = sio.loadmat('Test_data_%d_%d.mat' % (N, num_test))\n",
        "Htrain = load['Xtrain']\n",
        "Ptrain = load['Ytrain']\n",
        "H_test = loadTest['X']\n",
        "P_test = loadTest['Y']\n",
        "timeW = loadTest['swmmsetime']\n",
        "swmmsetime = timeW[0, 0]"
      ],
      "execution_count": 5,
      "outputs": []
    },
    {
      "cell_type": "code",
      "metadata": {
        "colab": {
          "base_uri": "https://localhost:8080/"
        },
        "id": "9JZQ6o-lj_zD",
        "outputId": "fe075cd6-5e03-41e7-8995-19e8d3c99fb9"
      },
      "source": [
        "print(\"Shape of Htrain:\", Htrain.shape)\n",
        "print(\"Shape of Ptrain:\", Ptrain.shape)"
      ],
      "execution_count": 6,
      "outputs": [
        {
          "output_type": "stream",
          "text": [
            "Shape of Htrain: (100000, 10, 10)\n",
            "Shape of Ptrain: (100000, 10)\n"
          ],
          "name": "stdout"
        }
      ]
    },
    {
      "cell_type": "markdown",
      "metadata": {
        "id": "QzibjVvpk54C"
      },
      "source": [
        "Single Data Representation"
      ]
    },
    {
      "cell_type": "code",
      "metadata": {
        "colab": {
          "base_uri": "https://localhost:8080/"
        },
        "id": "GMgRxJ7UkOZa",
        "outputId": "aaeca255-a3c4-45c6-c32d-7418f80c8fa1"
      },
      "source": [
        "import pandas as pd\n",
        "print(pd.DataFrame(Htrain[0]))"
      ],
      "execution_count": 7,
      "outputs": [
        {
          "output_type": "stream",
          "text": [
            "          0         1         2  ...         7         8         9\n",
            "0  1.342613  0.422641  0.277836  ...  1.245724  1.411776  0.534078\n",
            "1  0.486876  0.244248  0.827754  ...  0.315790  0.497679  1.640778\n",
            "2  1.199419  0.608031  0.527158  ...  1.638226  1.007699  0.356301\n",
            "3  0.682634  0.800450  1.224227  ...  1.400653  1.861390  0.352058\n",
            "4  0.778598  0.373186  0.549773  ...  1.692597  0.275322  1.147785\n",
            "5  1.352040  1.279353  0.154708  ...  0.643153  0.855599  1.092004\n",
            "6  0.706990  1.379098  1.317143  ...  0.849232  0.786425  1.012927\n",
            "7  1.206346  0.241728  0.100205  ...  0.653734  0.946538  1.342353\n",
            "8  0.573377  0.688618  0.362665  ...  1.052734  1.096891  0.933573\n",
            "9  0.433526  0.713767  0.765426  ...  0.761660  0.706572  0.349530\n",
            "\n",
            "[10 rows x 10 columns]\n"
          ],
          "name": "stdout"
        }
      ]
    },
    {
      "cell_type": "code",
      "metadata": {
        "colab": {
          "base_uri": "https://localhost:8080/"
        },
        "id": "HU3I-PJbkx6S",
        "outputId": "7e0d4ebc-9859-456d-8832-7440885c9975"
      },
      "source": [
        "print(pd.DataFrame(Ptrain[0]))"
      ],
      "execution_count": 8,
      "outputs": [
        {
          "output_type": "stream",
          "text": [
            "          0\n",
            "0  1.000000\n",
            "1  0.000019\n",
            "2  0.009859\n",
            "3  0.000004\n",
            "4  1.000000\n",
            "5  0.030497\n",
            "6  1.000000\n",
            "7  0.000102\n",
            "8  1.000000\n",
            "9  0.000005\n"
          ],
          "name": "stdout"
        }
      ]
    },
    {
      "cell_type": "markdown",
      "metadata": {
        "id": "HiHD_o8hewXj"
      },
      "source": [
        "Functions for calculating sum-rate"
      ]
    },
    {
      "cell_type": "code",
      "metadata": {
        "id": "6dP2FbeZBoiV"
      },
      "source": [
        "def IC_sum_rate(H, p, var_noise):\n",
        "    H = np.square(H)\n",
        "    fr = np.diag(H)*p\n",
        "    ag = np.dot(H,p) + var_noise - fr\n",
        "    y = np.sum(np.log(1+fr/ag) )\n",
        "    return y\n",
        "def np_sum_rate(X,Y):\n",
        "    avg = 0\n",
        "    n = X.shape[0]\n",
        "    for i in range(n):\n",
        "        avg += IC_sum_rate(X[i,:,:],Y[i,:],1)/n\n",
        "    return avg"
      ],
      "execution_count": 9,
      "outputs": []
    },
    {
      "cell_type": "markdown",
      "metadata": {
        "id": "i4gmiA2Ke1Or"
      },
      "source": [
        "Further feature extraction from training data"
      ]
    },
    {
      "cell_type": "code",
      "metadata": {
        "id": "B8IRETd2BB_6"
      },
      "source": [
        "def feature_extraction(H,num_train,N):\n",
        "    H_ii = np.zeros((num_train,N))\n",
        "    H_ij = np.zeros((num_train,N,N))\n",
        "    H_ij_T = np.zeros((num_train,N,N))\n",
        "    D = np.zeros((num_train,N,N))\n",
        "    for ii in range(num_train):\n",
        "        diag_H = np.diag(H[ii,:,:])\n",
        "        for jj in range(N):\n",
        "            H_ii[ii,jj] = H[ii,jj,jj]\n",
        "            H_ij[ii,jj,:] = H[ii,:,jj].T\n",
        "            H_ij[ii,jj,jj] = 0\n",
        "            H_ij_T[ii,jj,:] = H[ii,jj,:]\n",
        "            H_ij_T[ii,jj,jj] = 0\n",
        "            D[ii,jj,:] = diag_H\n",
        "            D[ii,jj,jj] = 0\n",
        "    return H_ii, H_ij, H_ij_T, D"
      ],
      "execution_count": 10,
      "outputs": []
    },
    {
      "cell_type": "markdown",
      "metadata": {
        "id": "gpM-E9eWe7Os"
      },
      "source": [
        "Define weights and biases of neural network"
      ]
    },
    {
      "cell_type": "code",
      "metadata": {
        "id": "xmLjINzoB6Ai"
      },
      "source": [
        "weights = {\n",
        "    'w_c_1': tf.Variable(tf.random_normal([3, 3, 3, 32], stddev=0.1)),\n",
        "    'w_c_2': tf.Variable(tf.random_normal([3, 3, 32, 32], stddev=0.1)),\n",
        "    'w_c_3': tf.Variable(tf.random_normal([3, 3, 32, 16], stddev=0.1)),\n",
        "    'w_c_4': tf.Variable(tf.random_normal([3, 3, 16, 6], stddev=0.1)),\n",
        "\n",
        "    'w_fc_1': tf.Variable(tf.random_normal([12, 40], stddev=0.1)),\n",
        "    'w_fc_2': tf.Variable(tf.random_normal([40, 20], stddev=0.1)),\n",
        "    'w_fc_3': tf.Variable(tf.random_normal([20, 1])),\n",
        "}\n",
        "\n",
        "biases = {\n",
        "    'b_c_1': tf.Variable(tf.random_normal([32], stddev=0.1)),\n",
        "    'b_c_2': tf.Variable(tf.random_normal([32], stddev=0.1)),\n",
        "    'b_c_3': tf.Variable(tf.random_normal([16], stddev=0.1)),\n",
        "    'b_c_4': tf.Variable(tf.random_normal([6], stddev=0.1)),\n",
        "\n",
        "    'b_fc_1': tf.Variable(tf.random_normal([40], stddev=0.1)),\n",
        "    'b_fc_2': tf.Variable(tf.random_normal([20], stddev=0.1)),\n",
        "    'b_fc_3': tf.Variable(tf.random_normal([1])),\n",
        "}"
      ],
      "execution_count": 11,
      "outputs": []
    },
    {
      "cell_type": "markdown",
      "metadata": {
        "id": "uGJG-6BZgrZD"
      },
      "source": [
        "### Neural Network"
      ]
    },
    {
      "cell_type": "code",
      "metadata": {
        "id": "hIN5aqXJBHtz"
      },
      "source": [
        "def network(input, weights, biases, strides = 1):\n",
        "    conv1 = tf.nn.conv2d(input, weights['w_c_1'], strides=[1, strides, strides, 1], padding='SAME')\n",
        "    conv1 = tf.nn.bias_add(conv1, biases['b_c_1'])\n",
        "    relu1 = tf.nn.relu(conv1)\n",
        "\n",
        "    conv2 = tf.nn.conv2d(relu1, weights['w_c_2'], strides=[1, strides, strides, 1], padding='SAME')\n",
        "    conv2 = tf.nn.bias_add(conv2, biases['b_c_2'])\n",
        "    relu2 = tf.nn.relu(conv2)\n",
        "\n",
        "    conv3 = tf.nn.conv2d(relu2, weights['w_c_3'], strides=[1, strides, strides, 1], padding='SAME')\n",
        "    conv3 = tf.nn.bias_add(conv3, biases['b_c_3'])\n",
        "    relu3 = tf.nn.relu(conv3)\n",
        "\n",
        "    conv4 = tf.nn.conv2d(relu3, weights['w_c_4'], strides=[1, strides, strides, 1], padding='SAME')\n",
        "    conv4 = tf.nn.bias_add(conv4, biases['b_c_4'])\n",
        "    relu4 = tf.nn.relu(conv4)\n",
        "\n",
        "    sum_l = tf.reduce_sum(relu4, axis=2)\n",
        "    max_l = tf.reduce_max(relu4, axis=2)\n",
        "\n",
        "    concat = tf.concat([sum_l, max_l], axis=2)\n",
        "\n",
        "    h1 = tf.tensordot(concat, weights['w_fc_1'], axes = [[2], [0]]) #tf.tensordot(a, b, axes)\n",
        "    h1 = tf.add(h1, biases['b_fc_1'])\n",
        "    h1 = tf.nn.relu(h1)\n",
        "\n",
        "    h2 = tf.tensordot(h1, weights['w_fc_2'], axes=[[2], [0]])\n",
        "    h2 = tf.add(h2, biases['b_fc_2'])\n",
        "    h2 = tf.nn.relu(h2)\n",
        "\n",
        "    out = tf.tensordot(h2, weights['w_fc_3'] ,axes = [[2], [0]])\n",
        "    out = tf.add(out, biases['b_fc_3'])\n",
        "    pred = tf.nn.sigmoid(out)\n",
        "    \n",
        "    return pred"
      ],
      "execution_count": 12,
      "outputs": []
    },
    {
      "cell_type": "code",
      "metadata": {
        "id": "lin5lKWCB3x5"
      },
      "source": [
        "H_ii, H_ij, H_ij_T, D = feature_extraction(Htrain,num_train,N)"
      ],
      "execution_count": 13,
      "outputs": []
    },
    {
      "cell_type": "markdown",
      "metadata": {
        "id": "ChXyet-Wg2Sy"
      },
      "source": [
        "Define tensors"
      ]
    },
    {
      "cell_type": "code",
      "metadata": {
        "id": "XzUT_C2TB9sK"
      },
      "source": [
        "X_ij = tf.placeholder(tf.float32, [None, N, N, 1]) \n",
        "X_ij_T = tf.placeholder(tf.float32, [None, N, N, 1])\n",
        "X_D = tf.placeholder(tf.float32, [None, N, N, 1])\n",
        "y = tf.placeholder(tf.float32, [None, N, 1])"
      ],
      "execution_count": 14,
      "outputs": []
    },
    {
      "cell_type": "code",
      "metadata": {
        "id": "bIzxnbXYCD0Z"
      },
      "source": [
        "inp = tf.concat((X_ij_T, X_ij, X_D), axis=3)\n",
        "pred = network(inp, weights, biases)"
      ],
      "execution_count": 15,
      "outputs": []
    },
    {
      "cell_type": "markdown",
      "metadata": {
        "id": "4gU2dJuphBCi"
      },
      "source": [
        "Cost function and optimizer"
      ]
    },
    {
      "cell_type": "code",
      "metadata": {
        "id": "9TD5M7qfCH0i",
        "colab": {
          "base_uri": "https://localhost:8080/"
        },
        "outputId": "41ef430e-af44-4e6d-c0b7-8f842ecc0e0a"
      },
      "source": [
        "cost2 = tf.reduce_mean(tf.square(pred - y)) #Mean Square Error\n",
        "optimizer = tf.train.RMSPropOptimizer(learning_rate).minimize(cost2)"
      ],
      "execution_count": 16,
      "outputs": [
        {
          "output_type": "stream",
          "text": [
            "WARNING:tensorflow:From /tensorflow-1.15.2/python3.7/tensorflow_core/python/training/rmsprop.py:119: calling Ones.__init__ (from tensorflow.python.ops.init_ops) with dtype is deprecated and will be removed in a future version.\n",
            "Instructions for updating:\n",
            "Call initializer instance with the dtype argument instead of passing it to the constructor\n"
          ],
          "name": "stdout"
        }
      ]
    },
    {
      "cell_type": "markdown",
      "metadata": {
        "id": "MgfiY_r0hJJj"
      },
      "source": [
        "Training and Validation data split"
      ]
    },
    {
      "cell_type": "code",
      "metadata": {
        "id": "cGoNif_fC7Rh"
      },
      "source": [
        "valid_split = 0.1\n",
        "total_sample_size = num_train\n",
        "validation_sample_size = int(total_sample_size*valid_split)\n",
        "training_sample_size = total_sample_size - validation_sample_size\n",
        "\n",
        "H_ii_train = np.reshape(H_ii[ 0:training_sample_size, :], (training_sample_size, N, 1))\n",
        "H_ij_train = np.reshape(H_ij[ 0:training_sample_size, :, :], (training_sample_size, N, N, 1))\n",
        "H_ij_T_train = np.reshape(H_ij_T[ 0:training_sample_size, :, :], (training_sample_size, N, N, 1))\n",
        "D_train = np.reshape(D[ 0:training_sample_size, :, :], (training_sample_size, N, N, 1))\n",
        "\n",
        "P_train = np.reshape(Ptrain[0:training_sample_size, :],  (training_sample_size, N, 1))\n",
        "\n",
        "H_ii_val = np.reshape(H_ii[ training_sample_size:total_sample_size, :], (validation_sample_size, N, 1))\n",
        "H_ij_val = np.reshape(H_ij[ training_sample_size:total_sample_size, :, :], (validation_sample_size, N, N, 1))\n",
        "H_ij_T_val = np.reshape(H_ij_T[ training_sample_size:total_sample_size, :, :], (validation_sample_size, N, N, 1))\n",
        "D_val = np.reshape(D[ training_sample_size:total_sample_size, :, :], (validation_sample_size, N, N, 1))\n",
        "\n",
        "P_val = np.reshape(Ptrain[training_sample_size:total_sample_size, :],  (validation_sample_size, N, 1))"
      ],
      "execution_count": 17,
      "outputs": []
    },
    {
      "cell_type": "code",
      "metadata": {
        "id": "H-Jt6HnPC9xh"
      },
      "source": [
        "sess = tf.InteractiveSession()\n",
        "tf.global_variables_initializer().run()\n",
        "start_time = time.time()\n",
        "\n",
        "MSETime=np.zeros((epochs, 3))\n",
        "\n",
        "total_batch = int(total_sample_size / batch_size)"
      ],
      "execution_count": 18,
      "outputs": []
    },
    {
      "cell_type": "markdown",
      "metadata": {
        "id": "XAXGQg4ghNHy"
      },
      "source": [
        "## Training"
      ]
    },
    {
      "cell_type": "code",
      "metadata": {
        "colab": {
          "base_uri": "https://localhost:8080/"
        },
        "id": "VpPJBKoTC_65",
        "outputId": "14557a0d-1038-48ba-ee6c-b82cd6a5585c"
      },
      "source": [
        "for epoch in range(epochs):\n",
        "    for ii in range(total_batch):\n",
        "        batch = np.random.randint(training_sample_size, size=batch_size)\n",
        "        _, cost_value = sess.run([optimizer, cost2],\n",
        "                                 feed_dict={X_ij: H_ij_train[batch, :, :], X_ij_T: H_ij_T_train[batch, :, :], X_D: D_train[batch, :, :], y: P_train[batch, :] })\n",
        "        if (ii % 50 == 0):\n",
        "            print(\"#\", end='')\n",
        "            # print('')\n",
        "\n",
        "    cost_value2 = sess.run(cost2,\n",
        "                           feed_dict={X_ij: H_ij_val, X_ij_T: H_ij_T_val, X_D: D_val, y: P_val})\n",
        "    MSETime[epoch, 0] = cost_value\n",
        "    MSETime[epoch, 1] = cost_value2\n",
        "    MSETime[epoch, 2] = epoch + 1\n",
        "\n",
        "    print(\"\\n Epoch:\", epoch + 1, \"| Training:\",cost_value, \"| Validation:\", cost_value2, \"| Training Time:\",time.time() - start_time)"
      ],
      "execution_count": 19,
      "outputs": [
        {
          "output_type": "stream",
          "text": [
            "########\n",
            " Epoch: 1 | Training: 0.07650599 | Validation: 0.0730113 | Training Time: 6.313860177993774\n",
            "########\n",
            " Epoch: 2 | Training: 0.054811202 | Validation: 0.052334394 | Training Time: 10.429296731948853\n",
            "########\n",
            " Epoch: 3 | Training: 0.05384739 | Validation: 0.05525615 | Training Time: 14.49223017692566\n",
            "########\n",
            " Epoch: 4 | Training: 0.04796835 | Validation: 0.047708984 | Training Time: 18.56604528427124\n",
            "########\n",
            " Epoch: 5 | Training: 0.057284378 | Validation: 0.052712772 | Training Time: 22.627798318862915\n",
            "########\n",
            " Epoch: 6 | Training: 0.044232607 | Validation: 0.0402607 | Training Time: 26.69410490989685\n",
            "########\n",
            " Epoch: 7 | Training: 0.04119687 | Validation: 0.04120961 | Training Time: 30.791965007781982\n",
            "########\n",
            " Epoch: 8 | Training: 0.039533913 | Validation: 0.040481362 | Training Time: 34.83254384994507\n",
            "########\n",
            " Epoch: 9 | Training: 0.040307716 | Validation: 0.04044563 | Training Time: 38.90142059326172\n",
            "########\n",
            " Epoch: 10 | Training: 0.034693964 | Validation: 0.03945763 | Training Time: 42.97261643409729\n",
            "########\n",
            " Epoch: 11 | Training: 0.03837328 | Validation: 0.03780696 | Training Time: 47.030752420425415\n",
            "########\n",
            " Epoch: 12 | Training: 0.03617104 | Validation: 0.037901923 | Training Time: 51.136717796325684\n",
            "########\n",
            " Epoch: 13 | Training: 0.036047507 | Validation: 0.03527644 | Training Time: 55.19452095031738\n",
            "########\n",
            " Epoch: 14 | Training: 0.03460636 | Validation: 0.035383265 | Training Time: 59.25897669792175\n",
            "########\n",
            " Epoch: 15 | Training: 0.03074646 | Validation: 0.036425255 | Training Time: 63.32007169723511\n",
            "########\n",
            " Epoch: 16 | Training: 0.037437655 | Validation: 0.041310333 | Training Time: 67.36423420906067\n",
            "########\n",
            " Epoch: 17 | Training: 0.032479588 | Validation: 0.03505055 | Training Time: 71.41193962097168\n",
            "########\n",
            " Epoch: 18 | Training: 0.034442324 | Validation: 0.03495529 | Training Time: 75.45985245704651\n",
            "########\n",
            " Epoch: 19 | Training: 0.03322523 | Validation: 0.03430814 | Training Time: 79.49226093292236\n",
            "########\n",
            " Epoch: 20 | Training: 0.03513334 | Validation: 0.034589037 | Training Time: 83.5292296409607\n",
            "########\n",
            " Epoch: 21 | Training: 0.032683566 | Validation: 0.033652157 | Training Time: 87.57397699356079\n",
            "########\n",
            " Epoch: 22 | Training: 0.03569671 | Validation: 0.03477411 | Training Time: 91.61768555641174\n",
            "########\n",
            " Epoch: 23 | Training: 0.028610403 | Validation: 0.033184312 | Training Time: 95.65105485916138\n",
            "########\n",
            " Epoch: 24 | Training: 0.030705694 | Validation: 0.03301037 | Training Time: 99.71354627609253\n",
            "########\n",
            " Epoch: 25 | Training: 0.03039977 | Validation: 0.033992317 | Training Time: 103.73080825805664\n",
            "########\n",
            " Epoch: 26 | Training: 0.041072953 | Validation: 0.035644796 | Training Time: 107.80889678001404\n",
            "########\n",
            " Epoch: 27 | Training: 0.034262158 | Validation: 0.03316034 | Training Time: 111.83630967140198\n",
            "########\n",
            " Epoch: 28 | Training: 0.029239321 | Validation: 0.033078738 | Training Time: 115.88290643692017\n",
            "########\n",
            " Epoch: 29 | Training: 0.029627781 | Validation: 0.032433394 | Training Time: 119.92147564888\n",
            "########\n",
            " Epoch: 30 | Training: 0.027083224 | Validation: 0.03254764 | Training Time: 123.96630620956421\n",
            "########\n",
            " Epoch: 31 | Training: 0.031517223 | Validation: 0.034800578 | Training Time: 127.99863600730896\n",
            "########\n",
            " Epoch: 32 | Training: 0.028719574 | Validation: 0.033293903 | Training Time: 132.02401518821716\n",
            "########\n",
            " Epoch: 33 | Training: 0.032072958 | Validation: 0.033122584 | Training Time: 136.04734253883362\n",
            "########\n",
            " Epoch: 34 | Training: 0.0355549 | Validation: 0.032400023 | Training Time: 140.0677182674408\n",
            "########\n",
            " Epoch: 35 | Training: 0.03938346 | Validation: 0.03549941 | Training Time: 144.07379388809204\n",
            "########\n",
            " Epoch: 36 | Training: 0.029122805 | Validation: 0.03233425 | Training Time: 148.1017622947693\n",
            "########\n",
            " Epoch: 37 | Training: 0.02718178 | Validation: 0.03213317 | Training Time: 152.13351726531982\n",
            "########\n",
            " Epoch: 38 | Training: 0.029341366 | Validation: 0.031867858 | Training Time: 156.1865427494049\n",
            "########\n",
            " Epoch: 39 | Training: 0.03299269 | Validation: 0.031736217 | Training Time: 160.211665391922\n",
            "########\n",
            " Epoch: 40 | Training: 0.03162491 | Validation: 0.032892533 | Training Time: 164.26422929763794\n",
            "########\n",
            " Epoch: 41 | Training: 0.029245457 | Validation: 0.031854216 | Training Time: 168.31466937065125\n",
            "########\n",
            " Epoch: 42 | Training: 0.028463509 | Validation: 0.031743698 | Training Time: 172.3744020462036\n",
            "########\n",
            " Epoch: 43 | Training: 0.028786022 | Validation: 0.032125812 | Training Time: 176.45099639892578\n",
            "########\n",
            " Epoch: 44 | Training: 0.027814437 | Validation: 0.03132886 | Training Time: 180.50021743774414\n",
            "########\n",
            " Epoch: 45 | Training: 0.034912802 | Validation: 0.03323598 | Training Time: 184.54578351974487\n",
            "########\n",
            " Epoch: 46 | Training: 0.030079614 | Validation: 0.033661332 | Training Time: 188.59453749656677\n",
            "########\n",
            " Epoch: 47 | Training: 0.02802665 | Validation: 0.031365912 | Training Time: 192.63390636444092\n",
            "########\n",
            " Epoch: 48 | Training: 0.031120885 | Validation: 0.03183068 | Training Time: 196.6575951576233\n",
            "########\n",
            " Epoch: 49 | Training: 0.03440898 | Validation: 0.032637406 | Training Time: 200.71831154823303\n",
            "########\n",
            " Epoch: 50 | Training: 0.02968418 | Validation: 0.031536266 | Training Time: 204.77457904815674\n",
            "########\n",
            " Epoch: 51 | Training: 0.02817818 | Validation: 0.033230893 | Training Time: 208.83766293525696\n",
            "########\n",
            " Epoch: 52 | Training: 0.029141406 | Validation: 0.03154074 | Training Time: 212.88972282409668\n",
            "########\n",
            " Epoch: 53 | Training: 0.023835454 | Validation: 0.0311727 | Training Time: 216.98053073883057\n",
            "########\n",
            " Epoch: 54 | Training: 0.031211426 | Validation: 0.03429941 | Training Time: 221.02294301986694\n",
            "########\n",
            " Epoch: 55 | Training: 0.028021228 | Validation: 0.030975122 | Training Time: 225.05131196975708\n",
            "########\n",
            " Epoch: 56 | Training: 0.02766715 | Validation: 0.031100225 | Training Time: 229.10616445541382\n",
            "########\n",
            " Epoch: 57 | Training: 0.028714672 | Validation: 0.031356495 | Training Time: 233.15725302696228\n",
            "########\n",
            " Epoch: 58 | Training: 0.028258909 | Validation: 0.031949718 | Training Time: 237.21230959892273\n",
            "########\n",
            " Epoch: 59 | Training: 0.027030652 | Validation: 0.031392843 | Training Time: 241.2495822906494\n",
            "########\n",
            " Epoch: 60 | Training: 0.02648116 | Validation: 0.031244138 | Training Time: 245.25649571418762\n",
            "########\n",
            " Epoch: 61 | Training: 0.031173194 | Validation: 0.03173585 | Training Time: 249.31020283699036\n",
            "########\n",
            " Epoch: 62 | Training: 0.02998254 | Validation: 0.031078955 | Training Time: 253.34910345077515\n",
            "########\n",
            " Epoch: 63 | Training: 0.027235636 | Validation: 0.031609785 | Training Time: 257.3771586418152\n",
            "########\n",
            " Epoch: 64 | Training: 0.029514547 | Validation: 0.03238567 | Training Time: 261.4178409576416\n",
            "########\n",
            " Epoch: 65 | Training: 0.024197992 | Validation: 0.031071985 | Training Time: 265.4414372444153\n",
            "########\n",
            " Epoch: 66 | Training: 0.02407939 | Validation: 0.031194188 | Training Time: 269.4559979438782\n",
            "########\n",
            " Epoch: 67 | Training: 0.02780141 | Validation: 0.031192163 | Training Time: 273.5036895275116\n",
            "########\n",
            " Epoch: 68 | Training: 0.030572617 | Validation: 0.031286888 | Training Time: 277.5711646080017\n",
            "########\n",
            " Epoch: 69 | Training: 0.025902059 | Validation: 0.030823682 | Training Time: 281.618408203125\n",
            "########\n",
            " Epoch: 70 | Training: 0.031202743 | Validation: 0.032227542 | Training Time: 285.65197682380676\n",
            "########\n",
            " Epoch: 71 | Training: 0.027754579 | Validation: 0.031007826 | Training Time: 289.7213752269745\n",
            "########\n",
            " Epoch: 72 | Training: 0.024974573 | Validation: 0.031039782 | Training Time: 293.8003282546997\n",
            "########\n",
            " Epoch: 73 | Training: 0.03015115 | Validation: 0.034655098 | Training Time: 297.8695533275604\n",
            "########\n",
            " Epoch: 74 | Training: 0.027578047 | Validation: 0.03167625 | Training Time: 301.9335343837738\n",
            "########\n",
            " Epoch: 75 | Training: 0.02636252 | Validation: 0.031928223 | Training Time: 305.97387862205505\n",
            "########\n",
            " Epoch: 76 | Training: 0.026601046 | Validation: 0.031665135 | Training Time: 310.0280292034149\n",
            "########\n",
            " Epoch: 77 | Training: 0.026073148 | Validation: 0.030600103 | Training Time: 314.06830286979675\n",
            "########\n",
            " Epoch: 78 | Training: 0.024166707 | Validation: 0.030651748 | Training Time: 318.11277532577515\n",
            "########\n",
            " Epoch: 79 | Training: 0.027435288 | Validation: 0.030630639 | Training Time: 322.1974790096283\n",
            "########\n",
            " Epoch: 80 | Training: 0.029979682 | Validation: 0.032131925 | Training Time: 326.25937843322754\n",
            "########\n",
            " Epoch: 81 | Training: 0.028522175 | Validation: 0.031593837 | Training Time: 330.3331344127655\n",
            "########\n",
            " Epoch: 82 | Training: 0.025026595 | Validation: 0.03043762 | Training Time: 334.36256432533264\n",
            "########\n",
            " Epoch: 83 | Training: 0.02826192 | Validation: 0.031281125 | Training Time: 338.4041860103607\n",
            "########\n",
            " Epoch: 84 | Training: 0.0265796 | Validation: 0.031805277 | Training Time: 342.43466901779175\n",
            "########\n",
            " Epoch: 85 | Training: 0.02439306 | Validation: 0.030378908 | Training Time: 346.46069836616516\n",
            "########\n",
            " Epoch: 86 | Training: 0.029862389 | Validation: 0.031615734 | Training Time: 350.4959132671356\n",
            "########\n",
            " Epoch: 87 | Training: 0.026513983 | Validation: 0.030484233 | Training Time: 354.5552303791046\n",
            "########\n",
            " Epoch: 88 | Training: 0.023231292 | Validation: 0.030508384 | Training Time: 358.5965883731842\n",
            "########\n",
            " Epoch: 89 | Training: 0.0279017 | Validation: 0.031491056 | Training Time: 362.6114761829376\n",
            "########\n",
            " Epoch: 90 | Training: 0.02592335 | Validation: 0.03067428 | Training Time: 366.6398437023163\n",
            "########\n",
            " Epoch: 91 | Training: 0.024770895 | Validation: 0.030465337 | Training Time: 370.6785695552826\n",
            "########\n",
            " Epoch: 92 | Training: 0.029197207 | Validation: 0.03374587 | Training Time: 374.7166521549225\n",
            "########\n",
            " Epoch: 93 | Training: 0.026536316 | Validation: 0.030257953 | Training Time: 378.74688839912415\n",
            "########\n",
            " Epoch: 94 | Training: 0.029626131 | Validation: 0.03360449 | Training Time: 382.7859160900116\n",
            "########\n",
            " Epoch: 95 | Training: 0.027457535 | Validation: 0.030888828 | Training Time: 386.8240203857422\n",
            "########\n",
            " Epoch: 96 | Training: 0.025518974 | Validation: 0.031462632 | Training Time: 390.85546946525574\n",
            "########\n",
            " Epoch: 97 | Training: 0.023672309 | Validation: 0.03123955 | Training Time: 394.9218418598175\n",
            "########\n",
            " Epoch: 98 | Training: 0.024665944 | Validation: 0.030274717 | Training Time: 398.97302293777466\n",
            "########\n",
            " Epoch: 99 | Training: 0.02479995 | Validation: 0.03043661 | Training Time: 403.0164647102356\n",
            "########\n",
            " Epoch: 100 | Training: 0.027421663 | Validation: 0.030607456 | Training Time: 407.0551142692566\n"
          ],
          "name": "stdout"
        }
      ]
    },
    {
      "cell_type": "markdown",
      "metadata": {
        "id": "E6FStO-jhPKD"
      },
      "source": [
        "Save training history"
      ]
    },
    {
      "cell_type": "code",
      "metadata": {
        "id": "1oTTEkS5DBtR"
      },
      "source": [
        "sio.savemat('CNN_MSE_%d_%d.mat'%(N, num_train), {'MSETime': MSETime})"
      ],
      "execution_count": 26,
      "outputs": []
    },
    {
      "cell_type": "markdown",
      "metadata": {
        "id": "CHVz9VvthTA6"
      },
      "source": [
        "Test data"
      ]
    },
    {
      "cell_type": "code",
      "metadata": {
        "id": "FOe6JGfaFG1a"
      },
      "source": [
        "H_ii_t, H_ij_t, H_ij_T_t, D_t = feature_extraction(H_test, num_test, N)\n",
        "H_ii_t = np.reshape(H_ii_t, (num_test, N, 1))\n",
        "H_ij_t = np.reshape(H_ij_t, (num_test, N, N, 1))\n",
        "H_ij_T_t = np.reshape(H_ij_T_t, (num_test, N, N, 1))\n",
        "D_t = np.reshape(D_t, (num_test, N, N, 1))\n",
        "P_t = np.reshape(P_test,  (num_test, N, 1))"
      ],
      "execution_count": 27,
      "outputs": []
    },
    {
      "cell_type": "markdown",
      "metadata": {
        "id": "BkI23Bh8hWDz"
      },
      "source": [
        "Prediction"
      ]
    },
    {
      "cell_type": "code",
      "metadata": {
        "colab": {
          "base_uri": "https://localhost:8080/"
        },
        "id": "uPz22MCDFIsI",
        "outputId": "5c896ff1-2860-4d50-c7ef-c80af62416f9"
      },
      "source": [
        "start_time = time.time()\n",
        "power = sess.run(pred, feed_dict={X_ij: H_ij_t, X_ij_T: H_ij_T_t, X_D: D_t, y: P_t})\n",
        "loss = sess.run(cost2, feed_dict={X_ij: H_ij_t, X_ij_T: H_ij_T_t, X_D: D_t, y: P_t})\n",
        "pred_time = time.time()-start_time\n",
        "pred_y = np.reshape(power,(num_test,N))\n",
        "print(\"Accuracy: %.3f%%\" %((1-loss)*100))\n",
        "\n",
        "sum_rate_cnn = np_sum_rate(H_test,pred_y)*np.log2(np.exp(1))\n",
        "sum_rate_swmmse = np_sum_rate(H_test,P_test)*np.log2(np.exp(1))\n",
        "\n",
        "print('Using CNN ----> Rate %f bps/Hz | Time: %f seconds' %(sum_rate_cnn, pred_time))\n",
        "print('Using SWMMSE -> Rate %f bps/Hz | Time: %f seconds' %(sum_rate_swmmse, swmmsetime))\n",
        "print(\"%f%% in %f%% time\" % (sum_rate_cnn/sum_rate_swmmse*100, pred_time/swmmsetime*100))"
      ],
      "execution_count": 28,
      "outputs": [
        {
          "output_type": "stream",
          "text": [
            "Accuracy: 96.938%\n",
            "Using CNN ----> Rate 2.562050 bps/Hz | Time: 0.197051 seconds\n",
            "Using SWMMSE -> Rate 2.675865 bps/Hz | Time: 25.235367 seconds\n",
            "95.746623% in 0.780851% time\n"
          ],
          "name": "stdout"
        }
      ]
    },
    {
      "cell_type": "markdown",
      "metadata": {
        "id": "sycRx8M9haK6"
      },
      "source": [
        "Loss function plot"
      ]
    },
    {
      "cell_type": "code",
      "metadata": {
        "colab": {
          "base_uri": "https://localhost:8080/",
          "height": 406
        },
        "id": "NCdXiQijHwvQ",
        "outputId": "5f65fa5c-861f-4c92-ac08-280562c0515a"
      },
      "source": [
        "import matplotlib.pyplot as plt\n",
        "MSETime = sio.loadmat('CNN_MSE_%d_%d.mat'%(N, num_train))['MSETime']\n",
        "plt.figure(figsize=(10,6))\n",
        "plt.style.use('seaborn-whitegrid')\n",
        "#print(MSETime[:,2].size)\n",
        "font = {'family': 'sans-serif',\n",
        "        'weight': 'bold',\n",
        "        'size': 12}\n",
        "\n",
        "plt.rc('axes', labelsize=12)  # fontsize of the x and y labels\n",
        "plt.rc('font', **font)\n",
        "plt.rcParams['axes.labelsize'] = 12\n",
        "plt.rcParams.update({'legend.fontsize':12})\n",
        "plt.plot(MSETime[:,2].T, MSETime[:,0].T,label='Train',  linewidth=2)\n",
        "plt.plot(MSETime[:,2].T, MSETime[:,1].T,label='Validation', linewidth=2)\n",
        "plt.legend(loc='upper right')\n",
        "plt.xlabel('Epoch')\n",
        "plt.ylabel('Mean Squared Error (MSE)')\n",
        "plt.title('Loss Function During Training')\n",
        "plt.xticks(np.arange(0, 101, step=20))      #10\n",
        "plt.xlim(1, 100)\n",
        "#plt.savefig('MSE_train.eps', format='eps', dpi=1000)\n",
        "plt.show()"
      ],
      "execution_count": 29,
      "outputs": [
        {
          "output_type": "display_data",
          "data": {
            "image/png": "[encoded data removed]",
            "text/plain": [
              "<Figure size 720x432 with 1 Axes>"
            ]
          },
          "metadata": {
            "tags": []
          }
        }
      ]
    },
    {
      "cell_type": "markdown",
      "metadata": {
        "id": "Z5fhAHyihchK"
      },
      "source": [
        "Distribution plot"
      ]
    },
    {
      "cell_type": "code",
      "metadata": {
        "id": "xd_xdaBhKoNk"
      },
      "source": [
        "num_sample = num_test\n",
        "pyrate = np.zeros(num_sample)\n",
        "nnrate = np.zeros(num_sample)\n",
        "mprate = np.zeros(num_sample)\n",
        "rdrate = np.zeros(num_sample)\n",
        "nnrate_d = np.zeros(num_sample)\n",
        "for i in range(num_sample):\n",
        "    pyrate[i] = IC_sum_rate(H_test[i, :, :], pred_y[i, :], 1)*np.log2(np.exp(1))\n",
        "    nnrate[i] = IC_sum_rate(H_test[i, :, :], pred_y[i, :], 1)*np.log2(np.exp(1))"
      ],
      "execution_count": 30,
      "outputs": []
    },
    {
      "cell_type": "code",
      "metadata": {
        "colab": {
          "base_uri": "https://localhost:8080/",
          "height": 406
        },
        "id": "yppDis_wH4kn",
        "outputId": "a2c01816-6f6c-4964-978f-9c122f4a5eb0"
      },
      "source": [
        "from matplotlib import rcParams\n",
        "\n",
        "plt.figure(figsize=(10,6))\n",
        "plt.style.use('seaborn-whitegrid')\n",
        "#print(MSETime[:,2].size)\n",
        "font = {'family': 'sans-serif',\n",
        "        'weight': 'bold',\n",
        "        'size': 12}\n",
        "\n",
        "plt.rc('axes', labelsize=12)  # fontsize of the x and y labels\n",
        "plt.rc('font', **font)\n",
        "plt.rcParams['axes.labelsize'] = 12\n",
        "plt.rcParams.update({'legend.fontsize':12})\n",
        "data = np.vstack([pyrate, nnrate]).T\n",
        "bins = np.linspace(0, max(pyrate), 50)\n",
        "plt.hist(data, bins, alpha=1, label=['SWMMSE', 'CNN'], )\n",
        "plt.legend(loc='upper right')\n",
        "plt.title('Distribution Plot')\n",
        "plt.xlim([0, 6])\n",
        "plt.xlabel('Rate (bps/Hz)')\n",
        "plt.ylabel('Number of Samples')\n",
        "plt.show()"
      ],
      "execution_count": 31,
      "outputs": [
        {
          "output_type": "display_data",
          "data": {
            "image/png": "[encoded data removed]",
            "text/plain": [
              "<Figure size 720x432 with 1 Axes>"
            ]
          },
          "metadata": {
            "tags": []
          }
        }
      ]
    }
  ]
}